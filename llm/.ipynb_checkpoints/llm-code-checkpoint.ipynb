{
 "cells": [
  {
   "cell_type": "markdown",
   "id": "dbdff60c-f58c-43bf-926e-fdbdbc9c18a4",
   "metadata": {},
   "source": [
    "# Tokenizer"
   ]
  },
  {
   "cell_type": "markdown",
   "id": "8a7137e2-5568-482c-bac0-66c71bba6290",
   "metadata": {},
   "source": [
    "## Step 1. Convert text to tokens"
   ]
  },
  {
   "cell_type": "code",
   "execution_count": 1,
   "id": "20b0146f-9bbf-44c0-b47a-5e065ee3c935",
   "metadata": {},
   "outputs": [
    {
     "name": "stdout",
     "output_type": "stream",
     "text": [
      "Total number of characters: 20479\n",
      "I HAD always thought Jack Gisburn rather a cheap genius--though a good fellow enough--so it was no \n"
     ]
    }
   ],
   "source": [
    "with open(\"dataset/the-verdict.txt\", \"r\", encoding=\"utf-8\") as file:\n",
    "    raw_text = file.read()\n",
    "\n",
    "print(f\"Total number of characters: {len(raw_text)}\")\n",
    "print(raw_text[:99])"
   ]
  },
  {
   "cell_type": "code",
   "execution_count": 2,
   "id": "78663486",
   "metadata": {},
   "outputs": [
    {
     "name": "stdout",
     "output_type": "stream",
     "text": [
      "Length of tokens: 4690\n",
      "['I', 'HAD', 'always', 'thought', 'Jack', 'Gisburn', 'rather', 'a', 'cheap', 'genius', '--', 'though', 'a', 'good', 'fellow', 'enough', '--', 'so', 'it', 'was', 'no', 'great', 'surprise', 'to', 'me', 'to', 'hear', 'that', ',', 'in']\n"
     ]
    }
   ],
   "source": [
    "import re\n",
    "preprocessed = re.split(r'([,.:;?_!\"()\\']|--|\\s)', raw_text)\n",
    "preprocessed = [token.strip() for token in preprocessed if token.strip()]\n",
    "print(f\"Length of tokens: {len(preprocessed)}\")\n",
    "print(preprocessed[:30])"
   ]
  },
  {
   "cell_type": "markdown",
   "id": "0e076123-ad6d-4c98-bd06-d1df259b92a3",
   "metadata": {},
   "source": [
    "## Step 2. Convert Token to Token ID"
   ]
  },
  {
   "cell_type": "code",
   "execution_count": 3,
   "id": "80c1a98e-e0c6-4ef7-8ec9-758d6008c611",
   "metadata": {},
   "outputs": [
    {
     "name": "stdout",
     "output_type": "stream",
     "text": [
      "Number of unique tokens: 1130\n"
     ]
    }
   ],
   "source": [
    "all_words = sorted(set(preprocessed))\n",
    "print(f\"Number of unique tokens: {len(all_words)}\")"
   ]
  },
  {
   "cell_type": "code",
   "execution_count": 4,
   "id": "89536849-5b0a-4361-a054-f782627b04cb",
   "metadata": {},
   "outputs": [],
   "source": [
    "vocabulary = {token:integer for integer, token in enumerate(all_words)}"
   ]
  },
  {
   "cell_type": "code",
   "execution_count": 5,
   "id": "6de21aac-9543-4744-bc70-087ceb72a844",
   "metadata": {},
   "outputs": [
    {
     "name": "stdout",
     "output_type": "stream",
     "text": [
      "0 ('!', 0)\n",
      "1 ('\"', 1)\n",
      "2 (\"'\", 2)\n",
      "3 ('(', 3)\n",
      "4 (')', 4)\n",
      "5 (',', 5)\n",
      "6 ('--', 6)\n",
      "7 ('.', 7)\n",
      "8 (':', 8)\n",
      "9 (';', 9)\n",
      "10 ('?', 10)\n"
     ]
    }
   ],
   "source": [
    "for i, t in enumerate(vocabulary.items()):\n",
    "    print(i, t)\n",
    "    if i >= 10:\n",
    "        break"
   ]
  },
  {
   "cell_type": "markdown",
   "id": "d649a2d4-c0d8-4604-95c5-737d71708fb3",
   "metadata": {},
   "source": [
    "## Tokenizer Class"
   ]
  },
  {
   "cell_type": "code",
   "execution_count": 6,
   "id": "b9ad9021-d56d-4504-a48b-dc45e018939e",
   "metadata": {},
   "outputs": [],
   "source": [
    "class SimpleTokenizerV1:\n",
    "    def __init__(self, vocabulary):\n",
    "        self.str_to_int = vocabulary\n",
    "        self.int_to_str = {i:s for s,i in vocabulary.items()}\n",
    "        \n",
    "    def encode(self, text):\n",
    "        preprocessed = re.split(r'([,.:;?_!\"()\\']|--|\\s)', text)\n",
    "        preprocessed = [token.strip() for token in preprocessed if token.strip()]\n",
    "        ids = [self.str_to_int[token] for token in preprocessed]\n",
    "        return ids\n",
    "        \n",
    "    def decode(self, ids):\n",
    "        text = \" \".join(self.int_to_str[id] for id in ids)\n",
    "        text = re.sub(r'\\s+([,.?!\"()\\'])', r'\\1', text)\n",
    "        return text"
   ]
  },
  {
   "cell_type": "code",
   "execution_count": 7,
   "id": "d997f180-d63a-4f4c-b818-9bbf4e1d4c99",
   "metadata": {},
   "outputs": [
    {
     "name": "stdout",
     "output_type": "stream",
     "text": [
      "[56, 2, 850, 988, 602, 533, 746]\n",
      "It' s the last he painted\n"
     ]
    }
   ],
   "source": [
    "# Test the v1 class methods\n",
    "tokenizer = SimpleTokenizerV1(vocabulary)\n",
    "text = \"\"\"It's the last he painted\"\"\"\n",
    "ids = tokenizer.encode(text)\n",
    "print(ids)\n",
    "text = tokenizer.decode(ids)\n",
    "print(text)"
   ]
  },
  {
   "cell_type": "code",
   "execution_count": 8,
   "id": "91bcb8fd-0058-4b97-b864-58395678ad8b",
   "metadata": {},
   "outputs": [
    {
     "name": "stdout",
     "output_type": "stream",
     "text": [
      "Length of Speical Context Tokens: 1132\n"
     ]
    }
   ],
   "source": [
    "# Special Context Token\n",
    "all_tokens = sorted(set(preprocessed))\n",
    "all_tokens.extend([\"<|unk|>\", \"<|endoftext|>\"])\n",
    "vocabulary = {token:integer for integer,token in enumerate(all_tokens)}\n",
    "print(f\"Length of Speical Context Tokens: {len(all_tokens)}\")"
   ]
  },
  {
   "cell_type": "code",
   "execution_count": 9,
   "id": "0c0eb27e-8c3f-4cce-a8c5-ac98f1521ba3",
   "metadata": {},
   "outputs": [
    {
     "name": "stdout",
     "output_type": "stream",
     "text": [
      "('younger', 1127)\n",
      "('your', 1128)\n",
      "('yourself', 1129)\n",
      "('<|unk|>', 1130)\n",
      "('<|endoftext|>', 1131)\n"
     ]
    }
   ],
   "source": [
    "for i, item in enumerate(list(vocabulary.items())[-5:]):\n",
    "    print(item)"
   ]
  },
  {
   "cell_type": "code",
   "execution_count": 10,
   "id": "6687040f-97e0-43dd-baf8-993c1ab863c3",
   "metadata": {},
   "outputs": [],
   "source": [
    "class SimpleTokenizerV2:\n",
    "    def __init__(self, vocabulary):\n",
    "        self.str_to_int = vocabulary\n",
    "        self.int_to_str = {i:s for s,i in vocabulary.items()}\n",
    "        \n",
    "    def encode(self, text):\n",
    "        preprocessed = re.split(r'([,.:;?_!\"()\\']|--|\\s)', text)\n",
    "        preprocessed = [token.strip() for token in preprocessed if token.strip()]\n",
    "        preprocessed = [token if token in self.str_to_int else \"<|unk|>\" for token in preprocessed]\n",
    "        ids = [self.str_to_int[token] for token in preprocessed]\n",
    "        return ids\n",
    "        \n",
    "    def decode(self, ids):\n",
    "        text = \" \".join(self.int_to_str[id] for id in ids)\n",
    "        text = re.sub(r'\\s+([,.?!\"()\\'])', r'\\1', text)\n",
    "        return text"
   ]
  },
  {
   "cell_type": "code",
   "execution_count": 11,
   "id": "151ada41-9d79-4a0a-9150-9d901a97511c",
   "metadata": {},
   "outputs": [
    {
     "name": "stdout",
     "output_type": "stream",
     "text": [
      "Hello, do you like tea?<|endoftext|>In the sunlight terraces of the palace\n",
      "[1130, 5, 355, 1126, 628, 975, 10, 1130, 988, 1130, 984, 722, 988, 1130]\n",
      "<|unk|>, do you like tea? <|unk|> the <|unk|> terraces of the <|unk|>\n"
     ]
    }
   ],
   "source": [
    "# Test the v2 class methods\n",
    "tokenizer = SimpleTokenizerV2(vocabulary)\n",
    "text1 = \"\"\"Hello, do you like tea?\"\"\"\n",
    "text2 = \"\"\"In the sunlight terraces of the palace\"\"\"\n",
    "text = \"<|endoftext|>\".join((text1, text2))\n",
    "print(text)\n",
    "ids = tokenizer.encode(text)\n",
    "print(ids)\n",
    "text = tokenizer.decode(ids)\n",
    "print(text)"
   ]
  },
  {
   "cell_type": "markdown",
   "id": "b122bff4-9a7d-4d2e-960c-2f8a8e13646e",
   "metadata": {},
   "source": [
    "## Byte Pair Tokenizer"
   ]
  },
  {
   "cell_type": "code",
   "execution_count": 12,
   "id": "7b951b50-928d-4e50-9df0-ef1e1c549c76",
   "metadata": {},
   "outputs": [
    {
     "name": "stdout",
     "output_type": "stream",
     "text": [
      "The following packages are already present in the pyproject.toml and will be skipped:\n",
      "\n",
      "  - \u001b[36mtiktoken\u001b[39m\n",
      "\n",
      "If you want to update it to the latest compatible version, you can use `poetry update package`.\n",
      "If you prefer to upgrade it to the latest available version, you can use `poetry add package@latest`.\n",
      "\n",
      "Nothing to add.\n"
     ]
    }
   ],
   "source": [
    "! poetry add tiktoken"
   ]
  },
  {
   "cell_type": "code",
   "execution_count": 10,
   "id": "b8a42720-64f0-44bc-9218-a5c8fb7035ee",
   "metadata": {},
   "outputs": [
    {
     "name": "stdout",
     "output_type": "stream",
     "text": [
      "tiktoken version: 0.8.0\n"
     ]
    }
   ],
   "source": [
    "import importlib\n",
    "import tiktoken\n",
    "\n",
    "print(\"tiktoken version:\", importlib.metadata.version(\"tiktoken\"))"
   ]
  },
  {
   "cell_type": "code",
   "execution_count": 11,
   "id": "c6ac0235-528a-4859-a6ff-0681dd1323e1",
   "metadata": {},
   "outputs": [],
   "source": [
    "tokenizer = tiktoken.get_encoding(\"gpt2\")"
   ]
  },
  {
   "cell_type": "code",
   "execution_count": 12,
   "id": "5904735e-a462-48c2-8488-2fe19eaae9d9",
   "metadata": {},
   "outputs": [
    {
     "name": "stdout",
     "output_type": "stream",
     "text": [
      "[15496, 11, 466, 345, 588, 8887, 30, 220, 50256, 554, 262, 4252, 18250, 8812, 2114, 1659, 617, 34680, 27271, 13]\n"
     ]
    }
   ],
   "source": [
    "text = (\n",
    "    \"Hello, do you like tea? <|endoftext|> In the sunlit terraces\"\n",
    "     \"of someunknownPlace.\"\n",
    ")\n",
    "\n",
    "integers = tokenizer.encode(text, allowed_special={\"<|endoftext|>\"})\n",
    "\n",
    "print(integers)"
   ]
  },
  {
   "cell_type": "code",
   "execution_count": 13,
   "id": "ebaa5dba-7c22-4c7e-84eb-f92e7a4822ed",
   "metadata": {},
   "outputs": [
    {
     "name": "stdout",
     "output_type": "stream",
     "text": [
      "Hello, do you like tea? <|endoftext|> In the sunlit terracesof someunknownPlace.\n"
     ]
    }
   ],
   "source": [
    "strings = tokenizer.decode(integers)\n",
    "\n",
    "print(strings)"
   ]
  },
  {
   "cell_type": "code",
   "execution_count": 14,
   "id": "7c7981b0-da9d-494f-962a-de11f3c37d6d",
   "metadata": {},
   "outputs": [
    {
     "name": "stdout",
     "output_type": "stream",
     "text": [
      "[33901, 86, 343, 86, 220, 959]\n",
      "Akwirw ier\n"
     ]
    }
   ],
   "source": [
    "integers = tokenizer.encode(\"Akwirw ier\")\n",
    "print(integers)\n",
    "\n",
    "strings = tokenizer.decode(integers)\n",
    "print(strings)"
   ]
  },
  {
   "cell_type": "markdown",
   "id": "ad579b4b-3eb2-465a-b324-38948e910477",
   "metadata": {},
   "source": [
    "# Input-Target Pairs"
   ]
  },
  {
   "cell_type": "code",
   "execution_count": 21,
   "id": "1a808638-3fb9-4f63-830b-b411d719bd76",
   "metadata": {},
   "outputs": [
    {
     "name": "stdout",
     "output_type": "stream",
     "text": [
      "Length of encoded text: 5145\n"
     ]
    }
   ],
   "source": [
    "with open(\"dataset/the-verdict.txt\", \"r\") as file:\n",
    "    raw_text = file.read()\n",
    "tokenizer = tiktoken.get_encoding(\"gpt2\")\n",
    "encoded_text = tokenizer.encode(raw_text)\n",
    "print(f\"Length of encoded text: {len(encoded_text)}\")"
   ]
  },
  {
   "cell_type": "code",
   "execution_count": 22,
   "id": "e508d2dc-b140-4b0c-b296-33275b6dc726",
   "metadata": {},
   "outputs": [],
   "source": [
    "encoded_sample = encoded_text[:50]"
   ]
  },
  {
   "cell_type": "code",
   "execution_count": null,
   "id": "d43f89df-025b-4602-9a30-061a93b67887",
   "metadata": {},
   "outputs": [],
   "source": [
    "context_size = 4\n",
    "x = encoded_sample[:context_size]\n",
    "y = encoded_sample[1:context_size+1]"
   ]
  }
 ],
 "metadata": {
  "kernelspec": {
   "display_name": "Python 3 (ipykernel)",
   "language": "python",
   "name": "python3"
  },
  "language_info": {
   "codemirror_mode": {
    "name": "ipython",
    "version": 3
   },
   "file_extension": ".py",
   "mimetype": "text/x-python",
   "name": "python",
   "nbconvert_exporter": "python",
   "pygments_lexer": "ipython3",
   "version": "3.12.3"
  }
 },
 "nbformat": 4,
 "nbformat_minor": 5
}
