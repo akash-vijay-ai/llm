{
 "cells": [
  {
   "cell_type": "markdown",
   "id": "dbdff60c-f58c-43bf-926e-fdbdbc9c18a4",
   "metadata": {},
   "source": [
    "# Tokenizer"
   ]
  },
  {
   "cell_type": "markdown",
   "id": "8a7137e2-5568-482c-bac0-66c71bba6290",
   "metadata": {},
   "source": [
    "## Step 1. Convert text to tokens"
   ]
  },
  {
   "cell_type": "code",
   "execution_count": 3,
   "id": "20b0146f-9bbf-44c0-b47a-5e065ee3c935",
   "metadata": {},
   "outputs": [
    {
     "name": "stdout",
     "output_type": "stream",
     "text": [
      "Total number of characters: 20479\n",
      "I HAD always thought Jack Gisburn rather a cheap genius--though a good fellow enough--so it was no \n"
     ]
    }
   ],
   "source": [
    "with open(\"dataset/the-verdict.txt\", \"r\", encoding=\"utf-8\") as file:\n",
    "    raw_text = file.read()\n",
    "\n",
    "print(f\"Total number of characters: {len(raw_text)}\")\n",
    "print(raw_text[:99])"
   ]
  },
  {
   "cell_type": "code",
   "execution_count": 4,
   "id": "78663486",
   "metadata": {},
   "outputs": [
    {
     "name": "stdout",
     "output_type": "stream",
     "text": [
      "Length of tokens: 4690\n",
      "['I', 'HAD', 'always', 'thought', 'Jack', 'Gisburn', 'rather', 'a', 'cheap', 'genius', '--', 'though', 'a', 'good', 'fellow', 'enough', '--', 'so', 'it', 'was', 'no', 'great', 'surprise', 'to', 'me', 'to', 'hear', 'that', ',', 'in']\n"
     ]
    }
   ],
   "source": [
    "import re\n",
    "preprocessed = re.split(r'([,.:;?_!\"()\\']|--|\\s)', raw_text)\n",
    "preprocessed = [token.strip() for token in preprocessed if token.strip()]\n",
    "print(f\"Length of tokens: {len(preprocessed)}\")\n",
    "print(preprocessed[:30])"
   ]
  },
  {
   "cell_type": "markdown",
   "id": "0e076123-ad6d-4c98-bd06-d1df259b92a3",
   "metadata": {},
   "source": [
    "## Step 2. Convert Token to Token ID"
   ]
  },
  {
   "cell_type": "code",
   "execution_count": 7,
   "id": "80c1a98e-e0c6-4ef7-8ec9-758d6008c611",
   "metadata": {},
   "outputs": [
    {
     "name": "stdout",
     "output_type": "stream",
     "text": [
      "Number of unique tokens: 1130\n"
     ]
    }
   ],
   "source": [
    "all_words = sorted(set(preprocessed))\n",
    "print(f\"Number of unique tokens: {len(all_words)}\")"
   ]
  },
  {
   "cell_type": "code",
   "execution_count": 8,
   "id": "89536849-5b0a-4361-a054-f782627b04cb",
   "metadata": {},
   "outputs": [],
   "source": [
    "vocabulary = {token:integer for integer, token in enumerate(all_words)}"
   ]
  },
  {
   "cell_type": "code",
   "execution_count": 10,
   "id": "6de21aac-9543-4744-bc70-087ceb72a844",
   "metadata": {},
   "outputs": [
    {
     "name": "stdout",
     "output_type": "stream",
     "text": [
      "0 ('!', 0)\n",
      "1 ('\"', 1)\n",
      "2 (\"'\", 2)\n",
      "3 ('(', 3)\n",
      "4 (')', 4)\n",
      "5 (',', 5)\n",
      "6 ('--', 6)\n",
      "7 ('.', 7)\n",
      "8 (':', 8)\n",
      "9 (';', 9)\n",
      "10 ('?', 10)\n"
     ]
    }
   ],
   "source": [
    "for i, t in enumerate(vocabulary.items()):\n",
    "    print(i, t)\n",
    "    if i >= 10:\n",
    "        break"
   ]
  },
  {
   "cell_type": "markdown",
   "id": "d649a2d4-c0d8-4604-95c5-737d71708fb3",
   "metadata": {},
   "source": [
    "## Tokenizer Class"
   ]
  },
  {
   "cell_type": "code",
   "execution_count": 16,
   "id": "b9ad9021-d56d-4504-a48b-dc45e018939e",
   "metadata": {},
   "outputs": [],
   "source": [
    "class SimpleTokenizerV1:\n",
    "    def __init__(self, vocabulary):\n",
    "        self.str_to_int = vocabulary\n",
    "        self.int_to_str = {i:s for s,i in vocabulary.items()}\n",
    "        \n",
    "    def encode(self, text):\n",
    "        preprocessed = re.split(r'([,.:;?_!\"()\\']|--|\\s)', text)\n",
    "        preprocessed = [token.strip() for token in preprocessed if token.strip()]\n",
    "        ids = [self.str_to_int[token] for token in preprocessed]\n",
    "        return ids\n",
    "        \n",
    "    def decode(self, ids):\n",
    "        text = \" \".join(self.int_to_str[id] for id in ids)\n",
    "        text = re.sub(r'\\s+([,.?!\"()\\'])', r'\\1', text)\n",
    "        return text"
   ]
  },
  {
   "cell_type": "code",
   "execution_count": 19,
   "id": "d997f180-d63a-4f4c-b818-9bbf4e1d4c99",
   "metadata": {},
   "outputs": [
    {
     "name": "stdout",
     "output_type": "stream",
     "text": [
      "[56, 2, 850, 988, 602, 533, 746]\n",
      "It' s the last he painted\n"
     ]
    }
   ],
   "source": [
    "# Test the class methods\n",
    "tokenizer = SimpleTokenizerV1(vocabulary)\n",
    "text = \"\"\"It's the last he painted\"\"\"\n",
    "ids = tokenizer.encode(text)\n",
    "print(ids)\n",
    "text = tokenizer.decode(ids)\n",
    "print(text)"
   ]
  },
  {
   "cell_type": "code",
   "execution_count": null,
   "id": "91bcb8fd-0058-4b97-b864-58395678ad8b",
   "metadata": {},
   "outputs": [],
   "source": []
  }
 ],
 "metadata": {
  "kernelspec": {
   "display_name": "Python 3 (ipykernel)",
   "language": "python",
   "name": "python3"
  },
  "language_info": {
   "codemirror_mode": {
    "name": "ipython",
    "version": 3
   },
   "file_extension": ".py",
   "mimetype": "text/x-python",
   "name": "python",
   "nbconvert_exporter": "python",
   "pygments_lexer": "ipython3",
   "version": "3.12.3"
  }
 },
 "nbformat": 4,
 "nbformat_minor": 5
}
