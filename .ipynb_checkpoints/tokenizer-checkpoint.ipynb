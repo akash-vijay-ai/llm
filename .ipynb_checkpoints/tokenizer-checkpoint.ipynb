{
 "cells": [
  {
   "cell_type": "markdown",
   "id": "dbdff60c-f58c-43bf-926e-fdbdbc9c18a4",
   "metadata": {},
   "source": [
    "# Tokenizer"
   ]
  },
  {
   "cell_type": "markdown",
   "id": "8a7137e2-5568-482c-bac0-66c71bba6290",
   "metadata": {},
   "source": [
    "## Step 1. Convert text to tokens"
   ]
  },
  {
   "cell_type": "code",
   "execution_count": null,
   "id": "20b0146f-9bbf-44c0-b47a-5e065ee3c935",
   "metadata": {},
   "outputs": [],
   "source": []
  }
 ],
 "metadata": {
  "kernelspec": {
   "display_name": "Python 3 (ipykernel)",
   "language": "python",
   "name": "python3"
  },
  "language_info": {
   "codemirror_mode": {
    "name": "ipython",
    "version": 3
   },
   "file_extension": ".py",
   "mimetype": "text/x-python",
   "name": "python",
   "nbconvert_exporter": "python",
   "pygments_lexer": "ipython3",
   "version": "3.12.3"
  }
 },
 "nbformat": 4,
 "nbformat_minor": 5
}
